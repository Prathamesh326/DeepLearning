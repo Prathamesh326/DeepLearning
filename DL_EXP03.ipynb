{
  "nbformat": 4,
  "nbformat_minor": 0,
  "metadata": {
    "colab": {
      "provenance": [],
      "authorship_tag": "ABX9TyOAV6q1eNBWP29XC1a3ca/E",
      "include_colab_link": true
    },
    "kernelspec": {
      "name": "python3",
      "display_name": "Python 3"
    },
    "language_info": {
      "name": "python"
    }
  },
  "cells": [
    {
      "cell_type": "markdown",
      "metadata": {
        "id": "view-in-github",
        "colab_type": "text"
      },
      "source": [
        "<a href=\"https://colab.research.google.com/github/Prathamesh326/DeepLearning/blob/main/DL_EXP03.ipynb\" target=\"_parent\"><img src=\"https://colab.research.google.com/assets/colab-badge.svg\" alt=\"Open In Colab\"/></a>"
      ]
    },
    {
      "cell_type": "markdown",
      "source": [
        "**Stochastic Gradient Descent:**"
      ],
      "metadata": {
        "id": "ohyLlinki4Hj"
      }
    },
    {
      "cell_type": "code",
      "execution_count": 10,
      "metadata": {
        "colab": {
          "base_uri": "https://localhost:8080/"
        },
        "id": "p67nJljsdR8h",
        "outputId": "ac115a1f-2b09-41dc-cca7-35c57428db25"
      },
      "outputs": [
        {
          "output_type": "stream",
          "name": "stdout",
          "text": [
            "Optimal solution using SGD:  5.1055768819361145\n"
          ]
        }
      ],
      "source": [
        "import random\n",
        "\n",
        "def stochastic_gd(gradient_func, initial_pos, learning_rate = 0.01, num_iterations = 100):\n",
        "  position = initial_pos\n",
        "\n",
        "  for _ in range(num_iterations) :\n",
        "    random_data_point = random.uniform(-10, 10)\n",
        "    gradient = gradient_func(random_data_point)\n",
        "    position -= learning_rate * gradient\n",
        "\n",
        "  return position\n",
        "\n",
        "def quad_func(x) :\n",
        "  return 2 * x - 4\n",
        "\n",
        "initial_pos = 0\n",
        "final_pos_sgd = stochastic_gd(quad_func, initial_pos)\n",
        "print(\"Optimal solution using SGD: \", final_pos_sgd)"
      ]
    },
    {
      "cell_type": "markdown",
      "source": [
        "**Momentum Gradient Descent:**"
      ],
      "metadata": {
        "id": "vwf7UH1qjAeM"
      }
    },
    {
      "cell_type": "code",
      "source": [
        "def momentum_gradient_descent(gradient_func, initial_pos, learning_rate = 0.01, momentum = 0.9, num_iterations = 100) :\n",
        "  position = initial_pos\n",
        "  velocity = 0\n",
        "\n",
        "  for _ in range(num_iterations):\n",
        "    gradient = gradient_func(position)\n",
        "    velocity = momentum * velocity - learning_rate * gradient\n",
        "    position += velocity\n",
        "\n",
        "  return position\n",
        "\n",
        "def quad_func(x) :\n",
        "  return 2 * x - 4\n",
        "\n",
        "initial_pos = 0\n",
        "final_pos_momentum = momentum_gradient_descent(quad_func, initial_pos)\n",
        "print(\"Optimal solution using momentum : \", final_pos_momentum)"
      ],
      "metadata": {
        "colab": {
          "base_uri": "https://localhost:8080/"
        },
        "id": "AKOdiWIyi08j",
        "outputId": "23e55f30-a4b2-48d7-bcf4-01d197ebf7e1"
      },
      "execution_count": 11,
      "outputs": [
        {
          "output_type": "stream",
          "name": "stdout",
          "text": [
            "Optimal solution using momentum :  1.9915437725637428\n"
          ]
        }
      ]
    },
    {
      "cell_type": "markdown",
      "source": [
        "**Nesterov Gradient Descent:**"
      ],
      "metadata": {
        "id": "3BzC0zd7kUt2"
      }
    },
    {
      "cell_type": "code",
      "source": [
        "def nesterov_gd(gradient_func, initial_pos, learning_rate = 0.01, momentum = 0.9, num_iterations = 100) :\n",
        "  position = initial_pos\n",
        "  velocity = 0\n",
        "\n",
        "  for _ in range(num_iterations) :\n",
        "    intermediate_pos = position + momentum * velocity\n",
        "    gradient = gradient_func(intermediate_pos)\n",
        "\n",
        "    velocity = momentum * velocity - learning_rate * gradient\n",
        "    position += velocity\n",
        "\n",
        "  return position\n",
        "\n",
        "def quad_func(x) :\n",
        "  return 2 * x - 4\n",
        "\n",
        "initial_pos = 0\n",
        "final_pos_nesterov = nesterov_gd(quad_func, initial_pos)\n",
        "print(\"Optimal solution using Nesterov Gradient Descent : \", final_pos_momentum)"
      ],
      "metadata": {
        "colab": {
          "base_uri": "https://localhost:8080/"
        },
        "id": "1qgQ0GmKkZxj",
        "outputId": "e770d4b2-18fa-43e7-dbe3-e6b901c34976"
      },
      "execution_count": 12,
      "outputs": [
        {
          "output_type": "stream",
          "name": "stdout",
          "text": [
            "Optimal solution using Nesterov Gradient Descent :  1.9915437725637428\n"
          ]
        }
      ]
    }
  ]
}